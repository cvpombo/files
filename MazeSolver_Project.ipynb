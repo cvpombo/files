{
  "nbformat": 4,
  "nbformat_minor": 0,
  "metadata": {
    "colab": {
      "provenance": [],
      "collapsed_sections": [
        "QSXcfLDt3Szw",
        "znGZU0tq5EmT",
        "9pFzFTTi9mDs",
        "cFhn6KqXHHZB"
      ],
      "toc_visible": true
    },
    "kernelspec": {
      "name": "python3",
      "display_name": "Python 3"
    }
  },
  "cells": [
    {
      "cell_type": "markdown",
      "source": [
        "**Copyright: © NexStream Technical Education, LLC**.  \n",
        "All rights reserved\n"
      ],
      "metadata": {
        "id": "_tCFpB-A-gnw"
      }
    },
    {
      "cell_type": "markdown",
      "metadata": {
        "id": "E56dopGK2NW3"
      },
      "source": [
        "# Writing a Maze Solver\n",
        "Using this guide, you'll be writing a recursive maze solver. Carefully read each cell and write your own code accordingly. Remember to test your code as you go.\n",
        "\n",
        "If you hit errors or problems with your code, consult the \"troubleshooting\" section of this notebook, which can be found at the bottom. "
      ]
    },
    {
      "cell_type": "markdown",
      "metadata": {
        "id": "QSXcfLDt3Szw"
      },
      "source": [
        "## Prerequisites\n",
        "It's good practice to include some aspects of your code at the top of the file. At the very top of your code, you should:\n",
        "*  import required libraries\n",
        "*  define global variables"
      ]
    },
    {
      "cell_type": "code",
      "metadata": {
        "id": "24LvORkc0Gdg"
      },
      "source": [
        "# Import required libaries (\"from _____ import _____, _____\")\n",
        "\n",
        "# define global variables\n",
        "# Eg. WALL = '#'"
      ],
      "execution_count": null,
      "outputs": []
    },
    {
      "cell_type": "markdown",
      "metadata": {
        "id": "znGZU0tq5EmT"
      },
      "source": [
        "## Reading the file into memory\n",
        "Start by opening the .txt file and assigning it to a variable using open(). Then, define the rowCount and Maze variables for later use. \n",
        "\n",
        "We've already done this part for you, just to keep variable names consistent with later code - feel free to change the variable names later on.  \n",
        "\n",
        "Additional Notes and suggestions:  \n",
        "- When reading a text 'maze' file to assemble your 2D array you should write a helper function to print out the array.  You may see 'newline' characters ('\\n') appended at the end of each row.  If you see newline characters in your 2D array, you should add a check in your code to detect this and remove (or not append it) to your array.\n",
        "- If you disconnect from the server or close and reopen this script, you will need to rerun this block to open the file, or you should consider saving your 2D array after reading your maze text file.  Search on the Python 'deepcopy' function.  \n",
        "- Maze files with 'double-wide' walkways are tricky to navigate.  Try creating your own 'single-wide' maze text file to initially test your maze navigation code."
      ]
    },
    {
      "cell_type": "code",
      "metadata": {
        "id": "qjMIYpHz6nT6"
      },
      "source": [
        "# Open the .txt file on \"read\" mode & assign it to a variable\n",
        "mazeFile = open('maze_medium.txt', 'r')\n",
        "\n",
        "# define empty variables for later use\n",
        "rowCount = 0 \n",
        "maze = []"
      ],
      "execution_count": null,
      "outputs": []
    },
    {
      "cell_type": "markdown",
      "metadata": {
        "id": "VifjE-NR7_nF"
      },
      "source": [
        "Next, use nested for loops to iterate through every character. The for loops should:\n",
        "* Read each character into a 2D list\n",
        "* Check for the position of the start character and save the coordinates in a set of variables\n",
        "* Find the dimensions of the maze by counting the rows and collumns.\n",
        "\n"
      ]
    },
    {
      "cell_type": "code",
      "metadata": {
        "id": "GykaDwFd893_"
      },
      "source": [
        "for line in mazeFile:\n",
        "    # Define an empty row\n",
        "    rowList = []\n",
        "    for ch in line:\n",
        "        # Append each character in a row to rowList[]\n",
        "\n",
        "        # Check for the S character and save its coordinates\n",
        "\n",
        "    # Append each rowList[] to maze[]\n",
        "  \n",
        "# If you haven't done so already, go back and implement a system that counts the\n",
        "# number of rows and collumns. You should save these dimensions in a set of variables."
      ],
      "execution_count": null,
      "outputs": []
    },
    {
      "cell_type": "markdown",
      "metadata": {
        "id": "9pFzFTTi9mDs"
      },
      "source": [
        "## The Recursive Function\n",
        "Once you've read the file into memory as a 2D list and determined the starting position and maze dimensions, its time to write the recursive function. Name this function solveFrom(), and this function will take 3 variables:\n",
        "\n",
        "*   Maze - The 2D list that was read from the file\n",
        "*   rowPos - The current row position that the program is at\n",
        "*   colPos - The current column position that the program is at\n",
        "\n",
        "Remember the three steps we're going to take to write this recursive function:\n",
        "\n",
        "1. The base case ( & leaving a breadcrumb)\n",
        "2. The recursive case\n",
        "3. Marking up"
      ]
    },
    {
      "cell_type": "code",
      "metadata": {
        "id": "AHH2FR__CqSU"
      },
      "source": [
        "def solveFrom(maze, rowPos, colPos):\n",
        "  # First, define the base case\n",
        "  # We've defined the first base case for you, but there are two other base cases for you to define\n",
        "  # Recall the algorithm we went over in the presentation\n",
        "  if maze[rowPos][colPos] == WALL:\n",
        "      return \n",
        "  \n",
        "  # Leave a breadcrumb. Do this by setting the current position to your breadcrumb variable.\n",
        "\n",
        "\n",
        "  # Define the recursive case. Search in all four directions for a solution.\n",
        "  # We've already searched North, its up to you to implement the other three directions!\n",
        "  if solveFrom(maze, rowPos-1, colPos) == True:\n",
        "      found = True\n",
        "  \n",
        "\n",
        "  # Depending on whether or not a solution was found, markup the maze\n",
        "\n",
        "  \n",
        "  # What should we markup the path with if we hit a dead end?\n",
        "  if found:\n",
        "    # If we've found a solution, we should markup the path with the solution character.\n",
        "    # Recall that we markup our current position using maze[rowPos][colPos] == 'character'\n",
        "\n",
        "  else:\n",
        "    # What should we markup the path with if we hit a dead end?\n",
        "\n",
        "  # We want to return True if we've found a solution, and False if not.\n",
        "  # Thankfully, the \"found\" variable stores this very information,\n",
        "  # so all we need to do it return found\n",
        "  return found\n",
        "\n"
      ],
      "execution_count": null,
      "outputs": []
    },
    {
      "cell_type": "markdown",
      "metadata": {
        "id": "cFhn6KqXHHZB"
      },
      "source": [
        "## Running the function and drawing the solution\n",
        "Now that you've read our maze to memory and written your recursive function, all you have to do is run the recursive function and output the solution into an image. \n",
        "\n",
        "First things first, start with calling the function. This will turn the unsolved maze 2D list into a solved maze 2D list. The rowPos and colPos variables should be set to the coordinates of the S character."
      ]
    },
    {
      "cell_type": "code",
      "metadata": {
        "id": "CZtndvB_Ie1R"
      },
      "source": [
        "# Call the function from the start position\n",
        "\n",
        "# Once you're done writing the function call, feel free to uncomment the next\n",
        "# lines to see what the solved maze list looks like:\n",
        "\n",
        "# for line in maze:\n",
        "#  print(''.join(line))"
      ],
      "execution_count": null,
      "outputs": []
    },
    {
      "cell_type": "markdown",
      "metadata": {
        "id": "hu6dYJY0IlTy"
      },
      "source": [
        "Finally, use the PIL module to change the solved maze LIST into a solved maze IMAGE.\n",
        "\n",
        "Some of the PIL module related code is filled in for you, as you're not expected to be proficient in PIL at this point."
      ]
    },
    {
      "cell_type": "code",
      "metadata": {
        "id": "GWKiSYqSI1jG"
      },
      "source": [
        "# Create a new image with a width and height based on the column and row count\n",
        "# Replace 'number of collumns' and 'number of rows' with your own variables\n",
        "im = Image.new('RGB', ('number of collumns' * 10, 'number of rows' * 10), (255, 255, 255))\n",
        "draw = ImageDraw.Draw(im)\n",
        "\n",
        "\n",
        "# iterate through every character of every line\n",
        "# to draw a pixel, do (change the fill parameter to change the pixel's color):\n",
        "# draw.rectangle((col * 10, row * 10, (col * 10) + 10, (row * 10) + 10), fill=(100, 100, 100))\n",
        "for line in maze:\n",
        "    for ch in line:\n",
        "        # If the character is a wall, draw a black pixel\n",
        "        \n",
        "        # If the character is part of the solution, draw a green pixel\n",
        "        \n",
        "# HINT: You need to keep track of the collumn and row number to draw your pixels.\n",
        "# If you're using the sample code, set your collumn and row variables to 'col' and 'row'\n",
        "\n",
        "\n",
        "# Save the image\n",
        "im.save('solution.jpg')"
      ],
      "execution_count": null,
      "outputs": []
    },
    {
      "cell_type": "markdown",
      "metadata": {
        "id": "_E2H2Zr2axk6"
      },
      "source": [
        "## Running the program\n",
        "To run your program, make sure the text files are in the runtime library. You can do this by clicking on the folder icon on the left. Make sure you see maze_small.txt, maze_medium.txt, maze_large.txt, and maze_impossible.txt. Sometimes if you've been away from Colab for a long time, your runtime will disconnect, so make sure the files are there.\n",
        "\n",
        "Go to runtime > run all. If there are no errors and everything runs correctly, you should be able to find a file called solution.jpg in the Files tab on the left. Make sure your program works by running it on all 4 types of mazes. You can change the maze you're solving by changing the filename in the open() command.\n",
        "\n",
        "If you have bugs or errors, check the \"troubleshooting\" cell at the bottom of this Colab for help troubleshooting. "
      ]
    },
    {
      "cell_type": "markdown",
      "metadata": {
        "id": "42BNFXVRJ7u7"
      },
      "source": [
        "## Success!\n",
        "You've finally finished writing your Maze solver!\n",
        "\n",
        "Congrats! You now know how to:\n",
        "\n",
        "*   Read a file to memory using nested for loops and 2D lists\n",
        "*   Write a recursive function with multiple base and recursive cases\n",
        "*   Use recursion to solve complicated problems\n",
        "*   Use the Python Imaging Library to create, edit, and draw on images based on your code\n",
        "\n"
      ]
    },
    {
      "cell_type": "markdown",
      "metadata": {
        "id": "pp5ZqJbIWVvT"
      },
      "source": [
        "# Troubleshooting\n",
        "A big part of programming is correcting mistakes. When writing programs, there are bound to be bugs. Here are some tips to correcting your bugs:\n",
        "\n",
        "### Pay attention to the error message. Here are some common errors:\n",
        "* ```name 'example' is not defined: ```The variables you're using aren't defined yet. Make sure you've defined your variable before, and that it's not mispelled. This may mean you need to run the cells with the variable definition. To solve this issue, go to the top toolbar and do Runtime > Run all.\n",
        "*   ```IndentationError: unexpected indent```: There's an indentation error in your code. Make sure all your code is indented correctly. For loops, if statements, and functions all need to have the correct indentation to run properly.\n",
        "* ```IndentationError: expected an indented block``` OR ```SyntaxError: unexpected EOF while parsing```: You have an empty indented area. In Python, you need to have content in an indented block for the program to run correctly. You can easily correct this problem by adding a temporary line of code, such as ```print('temp')``` in the indented area.\n"
      ]
    }
  ]
}